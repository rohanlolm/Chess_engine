{
 "cells": [
  {
   "cell_type": "markdown",
   "metadata": {},
   "source": [
    "# Chess Engine"
   ]
  },
  {
   "cell_type": "code",
   "execution_count": null,
   "metadata": {
    "collapsed": true
   },
   "outputs": [],
   "source": [
    "import copy"
   ]
  },
  {
   "cell_type": "code",
   "execution_count": null,
   "metadata": {
    "collapsed": true
   },
   "outputs": [],
   "source": [
    "from copy import deepcopy"
   ]
  },
  {
   "cell_type": "markdown",
   "metadata": {},
   "source": [
    "## Objects"
   ]
  },
  {
   "cell_type": "code",
   "execution_count": null,
   "metadata": {
    "collapsed": false
   },
   "outputs": [],
   "source": [
    "class Piece(object):\n",
    "    def __init__(self,name,p_type,colour,position,is_alive):\n",
    "        self.name = name\n",
    "        self.p_type = p_type\n",
    "        self.colour = colour\n",
    "        self.position = position\n",
    "        self.is_alive = is_alive\n",
    "        "
   ]
  },
  {
   "cell_type": "code",
   "execution_count": null,
   "metadata": {
    "collapsed": true
   },
   "outputs": [],
   "source": [
    "class Board(object): \n",
    "    def __init__(self, name, board, piece_list, fitness):\n",
    "        self.name = name\n",
    "        self.board = board\n",
    "        self.piece_list = piece_list\n",
    "        self.fitness = fitness\n",
    "        \n",
    "    def generate_empty_board(self): \n",
    "        self.board = [[0 for x in range(8)] for y in range(8)]"
   ]
  },
  {
   "cell_type": "markdown",
   "metadata": {},
   "source": [
    "## Functions "
   ]
  },
  {
   "cell_type": "code",
   "execution_count": null,
   "metadata": {
    "collapsed": true
   },
   "outputs": [],
   "source": [
    "def board_view(board): \n",
    "    for row in board:\n",
    "        for square in row: \n",
    "            if square == 0: \n",
    "                print('0', end=' ')\n",
    "            else: \n",
    "                print(square.p_type, end=' ')\n",
    "        print('')"
   ]
  },
  {
   "cell_type": "code",
   "execution_count": null,
   "metadata": {
    "collapsed": false
   },
   "outputs": [],
   "source": [
    "def piece_generator(Board):\n",
    "    for col in range(8):\n",
    "        name = 'P'+str(col+1)\n",
    "        Board[1][col] = Piece(name,'P','w',[1,col],1)\n",
    "        \n",
    "    for col in range(8):\n",
    "        name = 'p'+str(col+1) \n",
    "        Board[6][col] = Piece(name,'p','b',[6,col],1)\n",
    "    \n",
    "    Board[0][0] = Piece('R1','R','w',[0,0],1)\n",
    "    Board[0][1] = Piece('N1','N','w',[0,1],1)\n",
    "    Board[0][2] = Piece('B1','B','w',[0,2],1)\n",
    "    Board[0][3] = Piece('Q1','Q','w',[0,3],1)\n",
    "    Board[0][4] = Piece('K1','K','w',[0,4],1)\n",
    "    Board[0][5] = Piece('B2','B','w',[0,5],1)\n",
    "    Board[0][6] = Piece('N2','N','w',[0,6],1)\n",
    "    Board[0][7] = Piece('R2','R','w',[0,7],1)\n",
    "    \n",
    "    Board[7][0] = Piece('r1','r','b',[7,0],1)\n",
    "    Board[7][1] = Piece('n1','n','b',[7,1],1)\n",
    "    Board[7][2] = Piece('b1','b','b',[7,2],1)\n",
    "    Board[7][3] = Piece('q1','q','b',[7,3],1)\n",
    "    Board[7][4] = Piece('k1','k','b',[7,4],1)\n",
    "    Board[7][5] = Piece('b2','b','b',[7,5],1)\n",
    "    Board[7][6] = Piece('n2','n','b',[7,6],1)\n",
    "    Board[7][7] = Piece('r2','r','b',[7,7],1)\n",
    "    \n",
    "    #Board[3][3] = Piece('test','N','w',[3,3],1)"
   ]
  },
  {
   "cell_type": "code",
   "execution_count": null,
   "metadata": {
    "collapsed": true
   },
   "outputs": [],
   "source": [
    "def List_Pieces(self):\n",
    "        pieces = []\n",
    "        for row in self:\n",
    "            for col in row:\n",
    "                if col == 0:\n",
    "                    continue\n",
    "                pieces.append(col)\n",
    "        return pieces"
   ]
  },
  {
   "cell_type": "code",
   "execution_count": null,
   "metadata": {
    "collapsed": false
   },
   "outputs": [],
   "source": [
    "def White_piece_list(pieces):\n",
    "\n",
    "    White_list = [item for item in pieces if item.colour == 'w']\n",
    "    return White_list"
   ]
  },
  {
   "cell_type": "code",
   "execution_count": null,
   "metadata": {
    "collapsed": true
   },
   "outputs": [],
   "source": [
    "def Black_piece_list(pieces):\n",
    "\n",
    "    Black_list = [item for item in pieces if item.colour == 'b']\n",
    "    return Black_list"
   ]
  },
  {
   "cell_type": "code",
   "execution_count": null,
   "metadata": {
    "collapsed": true
   },
   "outputs": [],
   "source": [
    "def Evaluate(White_List,Black_List):\n",
    "    #Evaulating the worth of the sum of each players pieces\n",
    "    w_pieces = 0\n",
    "    b_pieces = 0\n",
    "    for item in White_List:\n",
    "        if item.p_type == 'P':\n",
    "            w_pieces += 1\n",
    "        if item.p_type == 'N' or item.p_type == 'B':\n",
    "            w_pieces += 3\n",
    "        if item.p_type == 'R':\n",
    "            w_pieces += 5\n",
    "        if item.p_type == 'Q':\n",
    "            w_pieces += 9\n",
    "        if item.p_type == 'K':\n",
    "            w_pieces += 500\n",
    "        \n",
    "    for item in Black_List:\n",
    "        if item.p_type == 'p':\n",
    "            b_pieces += 1\n",
    "        if item.p_type == 'n' or item.p_type == 'b':\n",
    "            b_pieces += 3\n",
    "        if item.p_type == 'r':\n",
    "            b_pieces += 5\n",
    "        if item.p_type == 'q':\n",
    "            b_pieces += 9\n",
    "        if item.p_type == 'k':\n",
    "            b_pieces += 500\n",
    "    \n",
    "    return w_pieces-b_pieces"
   ]
  },
  {
   "cell_type": "code",
   "execution_count": null,
   "metadata": {
    "collapsed": false
   },
   "outputs": [],
   "source": [
    "def Move_Piece(row_move,col_move,bord):\n",
    "    \n",
    "                            for row2 in boardset[str(bord.name+'_'+str(counter))].board:\n",
    "                                for item2 in row2:\n",
    "                                    if item2 == 0:\n",
    "                                        continue\n",
    "                                    if item2.name == item.name:\n",
    "                                        item2.position = [item.position[0]+row_move,item.position[1]+col_move]"
   ]
  },
  {
   "cell_type": "markdown",
   "metadata": {},
   "source": [
    "# Legal Moves"
   ]
  },
  {
   "cell_type": "code",
   "execution_count": null,
   "metadata": {
    "collapsed": false
   },
   "outputs": [],
   "source": [
    "def Pawn_Short_Move(pawn_list, board, counter, boardset): \n",
    "    for pawn in pawn_list:        \n",
    "            if board.board[pawn.position[0]+1][pawn.position[1]] == 0:\n",
    "                boardset[str(board.name + '_' + str(counter))] = copy.deepcopy(board)\n",
    "                boardset[str(board.name + '_' + str(counter))].board[pawn.position[0]+1][pawn.position[1]] = boardset[str(board.name + '_' + str(counter))].board[pawn.position[0]][pawn.position[1]]\n",
    "                boardset[str(board.name + '_' + str(counter))].board[pawn.position[0]+1][pawn.position[1]].position= [pawn.position[0]+1,pawn.position[1]]\n",
    "                boardset[str(board.name + '_' + str(counter))].board[pawn.position[0]][pawn.position[1]] = 0\n",
    "                counter += 1                    \n",
    "    Data = [boardset,counter]\n",
    "    return Data"
   ]
  },
  {
   "cell_type": "code",
   "execution_count": null,
   "metadata": {
    "collapsed": true
   },
   "outputs": [],
   "source": [
    "def Pawn_Long_Move(pawn_list, board, counter, boardset): \n",
    "    for pawn in pawn_list:        \n",
    "            if board.board[pawn.position[0]+1][pawn.position[1]] == 0 and board.board[pawn.position[0]+2][pawn.position[1]] == 0:\n",
    "                boardset[str(board.name + '_' + str(counter))] = copy.deepcopy(board)\n",
    "                boardset[str(board.name + '_' + str(counter))].board[pawn.position[0]+2][pawn.position[1]] = boardset[str(board.name + '_' + str(counter))].board[pawn.position[0]][pawn.position[1]]\n",
    "                boardset[str(board.name + '_' + str(counter))].board[pawn.position[0]+2][pawn.position[1]].position= [pawn.position[0]+2,pawn.position[1]]\n",
    "                boardset[str(board.name + '_' + str(counter))].board[pawn.position[0]][pawn.position[1]] = 0\n",
    "                counter += 1                    \n",
    "    Data = [boardset,counter]\n",
    "    return Data"
   ]
  },
  {
   "cell_type": "code",
   "execution_count": null,
   "metadata": {
    "collapsed": false
   },
   "outputs": [],
   "source": [
    "def can_pawn_take_right(pawn_list, board, counter, boardset): \n",
    "    for pawn in pawn_list:        \n",
    "        if pawn.position[1] != 7:\n",
    "            if board.board[pawn.position[0]+1][pawn.position[1]+1] != 0:\n",
    "                if board.board[pawn.position[0]+1][pawn.position[1]+1].colour == 'b':\n",
    "                    boardset[str(board.name + '_' + str(counter))] = copy.deepcopy(board)\n",
    "                    boardset[str(board.name + '_' + str(counter))].board[pawn.position[0]+1][pawn.position[1]+1] = boardset[str(board.name + '_' + str(counter))].board[pawn.position[0]][pawn.position[1]]\n",
    "                    boardset[str(board.name + '_' + str(counter))].board[pawn.position[0]+1][pawn.position[1]+1].position= [pawn.position[0]+1,pawn.position[1]+1]\n",
    "                    boardset[str(board.name + '_' + str(counter))].board[pawn.position[0]][pawn.position[1]] = 0\n",
    "                    counter += 1                    \n",
    "    Data = [boardset,counter]\n",
    "    return Data"
   ]
  },
  {
   "cell_type": "code",
   "execution_count": null,
   "metadata": {
    "collapsed": true
   },
   "outputs": [],
   "source": [
    "def can_pawn_take_left(pawn_list, board, counter, boardset): \n",
    "    for pawn in pawn_list:\n",
    "        if pawn.position[1] != 0:\n",
    "            if board.board[pawn.position[0]+1][pawn.position[1]-1] != 0:\n",
    "                if board.board[pawn.position[0]+1][pawn.position[1]-1].colour == 'b':\n",
    "                    boardset[str(board.name + '_' + str(counter))] = copy.deepcopy(board)\n",
    "                    boardset[str(board.name + '_' + str(counter))].board[pawn.position[0]+1][pawn.position[1]-1] = boardset[str(board.name + '_' + str(counter))].board[pawn.position[0]][pawn.position[1]]\n",
    "                    boardset[str(board.name + '_' + str(counter))].board[pawn.position[0]+1][pawn.position[1]-1].position= [pawn.position[0]+1,pawn.position[1]-1]\n",
    "                    boardset[str(board.name + '_' + str(counter))].board[pawn.position[0]][pawn.position[1]] = 0\n",
    "                    counter += 1\n",
    "    Data = [boardset,counter]\n",
    "    return Data"
   ]
  },
  {
   "cell_type": "code",
   "execution_count": null,
   "metadata": {
    "collapsed": false
   },
   "outputs": [],
   "source": [
    "def En_Passant_Left(pawn_list, board, counter, boardset):\n",
    "    \n",
    "    Data = [boardset,counter]\n",
    "    return Data"
   ]
  },
  {
   "cell_type": "code",
   "execution_count": null,
   "metadata": {
    "collapsed": true
   },
   "outputs": [],
   "source": [
    "def En_Passant_Right(pawn_list, board, counter, boardset):\n",
    "    \n",
    "    Data = [boardset,counter]\n",
    "    return Data"
   ]
  },
  {
   "cell_type": "code",
   "execution_count": null,
   "metadata": {
    "collapsed": false
   },
   "outputs": [],
   "source": [
    "def Kn_Move(kn,board,counter,boardset,row_move,col_move):\n",
    "    \n",
    "    knight1= kn\n",
    "    newpos = [kn.position[0]+row_move,kn.position[1]+col_move]\n",
    "    if 0<=newpos[0]<=7 and 0<=newpos[1]<=7:\n",
    "        if board.board[newpos[0]][newpos[1]] == 0 or board.board[newpos[0]][newpos[1]].colour == 'b':\n",
    "            boardset[str(board.name + '_' + str(counter))] = copy.deepcopy(board)\n",
    "            boardset[str(board.name + '_' + str(counter))].board[newpos[0]][newpos[1]] = boardset[str(board.name + '_' + str(counter))].board[kn.position[0]][kn.position[1]]\n",
    "            boardset[str(board.name + '_' + str(counter))].board[newpos[0]][newpos[1]].position= newpos\n",
    "            boardset[str(board.name + '_' + str(counter))].board[kn.position[0]][kn.position[1]] = 0\n",
    "            counter += 1\n",
    "    Data = [boardset,counter]\n",
    "    return Data\n",
    "    "
   ]
  },
  {
   "cell_type": "code",
   "execution_count": null,
   "metadata": {
    "collapsed": false
   },
   "outputs": [],
   "source": [
    "def Knight_Moves(knight_list, board, counter, boardset):\n",
    "    count = 1\n",
    "    knight_positions = []\n",
    "    for kn in knight_list:\n",
    "          \n",
    "        KM1 = Kn_Move(kn,board,counter,boardset,2,1)\n",
    "        boardset = KM1[0]\n",
    "        counter = KM1[1]\n",
    "                \n",
    "        KM2 = Kn_Move(kn,board,counter,boardset,2,-1)\n",
    "        boardset = KM2[0]\n",
    "        counter = KM2[1]\n",
    "        \n",
    "        KM3 = Kn_Move(kn,board,counter,boardset,1,2)\n",
    "        boardset = KM3[0]\n",
    "        counter = KM3[1]\n",
    "        \n",
    "        KM4 = Kn_Move(kn,board,counter,boardset,1,-2)\n",
    "        boardset = KM4[0]\n",
    "        counter = KM4[1]\n",
    "\n",
    "        KM5 = Kn_Move(kn,board,counter,boardset,-2,1)\n",
    "        boardset = KM5[0]\n",
    "        counter = KM5[1]\n",
    "                \n",
    "        KM6 = Kn_Move(kn,board,counter,boardset,-2,-1)\n",
    "        boardset = KM6[0]\n",
    "        counter = KM6[1]\n",
    "        \n",
    "        KM7 = Kn_Move(kn,board,counter,boardset,-1,2)\n",
    "        boardset = KM7[0]\n",
    "        counter = KM7[1]\n",
    "        \n",
    "        KM8 = Kn_Move(kn,board,counter,boardset,-1,-2)\n",
    "        boardset = KM8[0]\n",
    "        counter = KM8[1]\n",
    "        \n",
    "    Data = [boardset,counter]\n",
    "    return Data"
   ]
  },
  {
   "cell_type": "code",
   "execution_count": null,
   "metadata": {
    "collapsed": false
   },
   "outputs": [],
   "source": [
    "def White_Legal_Moves(board):\n",
    "    boardset = dict()\n",
    "    counter = 0\n",
    "    pieces = List_Pieces(board.board)\n",
    "    White_pieces = White_piece_list(pieces)\n",
    "    Black_pieces = Black_piece_list(pieces)\n",
    "    \n",
    "#Pawn Moves\n",
    "    pawn_list = [pawn for pawn in White_pieces if pawn.p_type =='P']\n",
    "    \n",
    "    psm = Pawn_Short_Move(pawn_list, board, counter, boardset)\n",
    "    boardset = psm[0]\n",
    "    counter = psm[1]\n",
    "    \n",
    "    plm = Pawn_Long_Move(pawn_list, board, counter, boardset)\n",
    "    boardset = plm[0]\n",
    "    counter = plm[1]\n",
    "    \n",
    "    cptr = can_pawn_take_right(pawn_list, board, counter, boardset)\n",
    "    boardset = cptr[0]\n",
    "    counter = cptr[1]\n",
    "    \n",
    "    cptl = can_pawn_take_left(pawn_list, board, counter, boardset)\n",
    "    boardset = cptl[0]\n",
    "    counter = cptl[1]\n",
    "    \n",
    "    #En Passant Required    \n",
    "\n",
    "    epl = En_Passant_Left(pawn_list, board, counter, boardset)\n",
    "    boardset = epl[0]\n",
    "    counter = epl[1]\n",
    "    \n",
    "    epr = En_Passant_Right(pawn_list, board, counter, boardset)\n",
    "    boardset = epr[0]\n",
    "    counter = epr[1]\n",
    "    \n",
    "#Knight Moves\n",
    "    knight_list = [knight for knight in White_pieces if knight.p_type =='N']\n",
    "    \n",
    "    km = Knight_Moves(knight_list, board, counter, boardset)\n",
    "    boardset = km[0]\n",
    "    counter = km[1]\n",
    "    \n",
    "    \n",
    "    return boardset\n",
    "            "
   ]
  },
  {
   "cell_type": "raw",
   "metadata": {},
   "source": []
  },
  {
   "cell_type": "code",
   "execution_count": null,
   "metadata": {
    "collapsed": true
   },
   "outputs": [],
   "source": []
  },
  {
   "cell_type": "markdown",
   "metadata": {},
   "source": [
    "# Evaluation"
   ]
  },
  {
   "cell_type": "code",
   "execution_count": null,
   "metadata": {
    "collapsed": false
   },
   "outputs": [],
   "source": [
    "board1 = Board('board1',[],[],0)\n",
    "board1.generate_empty_board()"
   ]
  },
  {
   "cell_type": "code",
   "execution_count": null,
   "metadata": {
    "collapsed": false
   },
   "outputs": [],
   "source": [
    "piece_generator(board1.board)"
   ]
  },
  {
   "cell_type": "code",
   "execution_count": null,
   "metadata": {
    "collapsed": false
   },
   "outputs": [],
   "source": [
    "board_view(board1.board)"
   ]
  },
  {
   "cell_type": "code",
   "execution_count": null,
   "metadata": {
    "collapsed": false
   },
   "outputs": [],
   "source": [
    "board1.piece_list = List_Pieces(board1.board)"
   ]
  },
  {
   "cell_type": "code",
   "execution_count": null,
   "metadata": {
    "collapsed": true
   },
   "outputs": [],
   "source": [
    "board1.black_list = [item for item in board1.piece_list if item.colour == 'b']"
   ]
  },
  {
   "cell_type": "code",
   "execution_count": null,
   "metadata": {
    "collapsed": true
   },
   "outputs": [],
   "source": [
    "board1.white_list = [item for item in board1.piece_list if item.colour == 'w']"
   ]
  },
  {
   "cell_type": "code",
   "execution_count": null,
   "metadata": {
    "collapsed": false
   },
   "outputs": [],
   "source": [
    "board1.white_list[1].p_type"
   ]
  },
  {
   "cell_type": "code",
   "execution_count": null,
   "metadata": {
    "collapsed": false
   },
   "outputs": [],
   "source": [
    "Evaluation = Evaluate(board1.white_list,board1.black_list)"
   ]
  },
  {
   "cell_type": "code",
   "execution_count": null,
   "metadata": {
    "collapsed": false
   },
   "outputs": [],
   "source": [
    "Evaluation"
   ]
  },
  {
   "cell_type": "code",
   "execution_count": null,
   "metadata": {
    "collapsed": false
   },
   "outputs": [],
   "source": [
    "boardset = White_Legal_Moves(board1)"
   ]
  },
  {
   "cell_type": "code",
   "execution_count": null,
   "metadata": {
    "collapsed": false
   },
   "outputs": [],
   "source": [
    "board_view(boardset['board1_25'].board)"
   ]
  }
 ],
 "metadata": {
  "kernelspec": {
   "display_name": "Python 3",
   "language": "python",
   "name": "python3"
  },
  "language_info": {
   "codemirror_mode": {
    "name": "ipython",
    "version": 3
   },
   "file_extension": ".py",
   "mimetype": "text/x-python",
   "name": "python",
   "nbconvert_exporter": "python",
   "pygments_lexer": "ipython3",
   "version": "3.6.0"
  }
 },
 "nbformat": 4,
 "nbformat_minor": 2
}
