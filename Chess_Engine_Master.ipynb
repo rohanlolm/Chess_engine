{
 "cells": [
  {
   "cell_type": "markdown",
   "metadata": {},
   "source": [
    "# Chess Engine"
   ]
  },
  {
   "cell_type": "markdown",
   "metadata": {},
   "source": [
    "## Objects"
   ]
  },
  {
   "cell_type": "code",
   "execution_count": 1,
   "metadata": {
    "collapsed": false
   },
   "outputs": [],
   "source": [
    "class Piece(object):\n",
    "    def __init__(self,name,p_type,colour,position,is_alive):\n",
    "        self.name = name\n",
    "        self.p_type = p_type\n",
    "        self.colour = colour\n",
    "        self.position = position\n",
    "        self.is_alive = is_alive"
   ]
  },
  {
   "cell_type": "code",
   "execution_count": 2,
   "metadata": {
    "collapsed": true
   },
   "outputs": [],
   "source": [
    "class Board(object): \n",
    "    def __init__(self, board, piece_list, fitness): \n",
    "        self.board = board\n",
    "        self.piece_list = piece_list\n",
    "        self.fitness = fitness\n",
    "        \n",
    "    def generate_empty_board(self): \n",
    "        self.board = [[0 for x in range(8)] for y in range(8)]\n",
    "        \n",
    "    def populate_start_board(self):\n",
    "        for col in range(8):\n",
    "            name = 'p'+str(col+1)\n",
    "            self.board[1][col] = Piece(name+'w','P','w',[1,col],1)\n",
    "            self.board[6][col] = Piece(name+'b','P','b',[6,col],1)\n",
    "    \n",
    "        self.board[0][0] = Piece('R1w','R','w',[0,0],1)\n",
    "        self.board[0][1] = Piece('N1w','N','w',[0,1],1)\n",
    "        self.board[0][2] = Piece('B1w','B','w',[0,2],1)\n",
    "        self.board[0][3] = Piece('Q1w','Q','w',[0,3],1)\n",
    "        self.board[0][4] = Piece('K1w','K','w',[0,4],1)\n",
    "        self.board[0][5] = Piece('B2w','B','w',[0,5],1)\n",
    "        self.board[0][6] = Piece('N2w','N','w',[0,6],1)\n",
    "        self.board[0][7] = Piece('R2w','R','w',[0,7],1)\n",
    "\n",
    "        self.board[7][0] = Piece('R1b','R','b',[7,0],1)\n",
    "        self.board[7][1] = Piece('N1b','N','b',[7,1],1)\n",
    "        self.board[7][2] = Piece('B1b','B','b',[7,2],1)\n",
    "        self.board[7][3] = Piece('Q1b','Q','b',[7,3],1)\n",
    "        self.board[7][4] = Piece('K1b','K','b',[7,4],1)\n",
    "        self.board[7][5] = Piece('B2b','B','b',[7,5],1)\n",
    "        self.board[7][6] = Piece('N2b','N','b',[7,6],1)\n",
    "        self.board[7][7] = Piece('R2b','R','b',[7,7],1)\n",
    "        \n",
    "    def List_Pieces(self):\n",
    "        pieces = []\n",
    "        for row in self.board:\n",
    "            for col in row:\n",
    "                if col == 0:\n",
    "                    continue\n",
    "                pieces.append(col)\n",
    "        return pieces"
   ]
  },
  {
   "cell_type": "markdown",
   "metadata": {},
   "source": [
    "## Functions "
   ]
  },
  {
   "cell_type": "code",
   "execution_count": 3,
   "metadata": {
    "collapsed": true
   },
   "outputs": [],
   "source": [
    "def board_view(board): \n",
    "    '''Prints a view of a board object. Returns none'''\n",
    "    for row in board:\n",
    "        for square in row: \n",
    "            if square == 0: \n",
    "                print('0', end=' ')\n",
    "            else: \n",
    "                print(square.p_type, end=' ')\n",
    "        print('')"
   ]
  },
  {
   "cell_type": "markdown",
   "metadata": {},
   "source": [
    "# Evaluation"
   ]
  },
  {
   "cell_type": "code",
   "execution_count": 5,
   "metadata": {
    "collapsed": false
   },
   "outputs": [],
   "source": [
    "board1 = Board([],[],0)\n",
    "board1.generate_empty_board()\n",
    "board1.populate_start_board()"
   ]
  },
  {
   "cell_type": "code",
   "execution_count": 7,
   "metadata": {
    "collapsed": false
   },
   "outputs": [
    {
     "name": "stdout",
     "output_type": "stream",
     "text": [
      "R N B Q K B N R \n",
      "P P P P P P P P \n",
      "0 0 0 0 0 0 0 0 \n",
      "0 0 0 0 0 0 0 0 \n",
      "0 0 0 0 0 0 0 0 \n",
      "0 0 0 0 0 0 0 0 \n",
      "P P P P P P P P \n",
      "R N B Q K B N R \n"
     ]
    }
   ],
   "source": [
    "board_view(board1.board)"
   ]
  },
  {
   "cell_type": "code",
   "execution_count": 10,
   "metadata": {
    "collapsed": false
   },
   "outputs": [],
   "source": [
    "board1.piece_list = board1.List_Pieces()"
   ]
  },
  {
   "cell_type": "code",
   "execution_count": 12,
   "metadata": {
    "collapsed": true
   },
   "outputs": [],
   "source": [
    "board1.black_list = [item for item in board1.piece_list if item.colour == 'b']"
   ]
  },
  {
   "cell_type": "code",
   "execution_count": 13,
   "metadata": {
    "collapsed": true
   },
   "outputs": [],
   "source": [
    "board1.white_list = [item for item in board1.piece_list if item.colour == 'w']"
   ]
  },
  {
   "cell_type": "code",
   "execution_count": null,
   "metadata": {
    "collapsed": true
   },
   "outputs": [],
   "source": []
  }
 ],
 "metadata": {
  "kernelspec": {
   "display_name": "Python 3",
   "language": "python",
   "name": "python3"
  },
  "language_info": {
   "codemirror_mode": {
    "name": "ipython",
    "version": 3
   },
   "file_extension": ".py",
   "mimetype": "text/x-python",
   "name": "python",
   "nbconvert_exporter": "python",
   "pygments_lexer": "ipython3",
   "version": "3.5.2"
  }
 },
 "nbformat": 4,
 "nbformat_minor": 2
}
