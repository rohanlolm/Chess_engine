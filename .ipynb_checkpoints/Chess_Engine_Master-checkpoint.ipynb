{
 "cells": [
  {
   "cell_type": "markdown",
   "metadata": {},
   "source": [
    "# Chess Engine"
   ]
  },
  {
   "cell_type": "markdown",
   "metadata": {},
   "source": [
    "## Objects"
   ]
  },
  {
   "cell_type": "code",
   "execution_count": null,
   "metadata": {
    "collapsed": false
   },
   "outputs": [],
   "source": [
    "class Piece(object):\n",
    "    def __init__(self,name,p_type,colour,position,is_alive):\n",
    "        self.name = name\n",
    "        self.p_type = p_type\n",
    "        self.colour = colour\n",
    "        self.position = position\n",
    "        self.is_alive = is_alive\n",
    "        "
   ]
  },
  {
   "cell_type": "code",
   "execution_count": null,
   "metadata": {
    "collapsed": true
   },
   "outputs": [],
   "source": [
    "class Board(object): \n",
    "    def __init__(self, board, piece_list, fitness): \n",
    "        self.board = board\n",
    "        self.piece_list = piece_list\n",
    "        self.fitness = fitness\n",
    "        \n",
    "    def generate_empty_board(self): \n",
    "        self.board = [[0 for x in range(8)] for y in range(8)]\n",
    "        \n",
    "    def List_Pieces(self):\n",
    "        pieces = []\n",
    "        for row in self.board:\n",
    "            for col in row:\n",
    "                if col == 0:\n",
    "                    continue\n",
    "                pieces.append(col)\n",
    "        return pieces"
   ]
  },
  {
   "cell_type": "markdown",
   "metadata": {},
   "source": [
    "## Functions "
   ]
  },
  {
   "cell_type": "code",
   "execution_count": null,
   "metadata": {
    "collapsed": true
   },
   "outputs": [],
   "source": [
    "def board_view(board): \n",
    "    for row in board:\n",
    "        for square in row: \n",
    "            if square == 0: \n",
    "                print('0', end=' ')\n",
    "            else: \n",
    "                print(square.p_type, end=' ')\n",
    "        print('')"
   ]
  },
  {
   "cell_type": "code",
   "execution_count": null,
   "metadata": {
    "collapsed": false
   },
   "outputs": [],
   "source": [
    "def piece_generator(Board):\n",
    "    for col in range(8):\n",
    "        name = 'p'+str(col+1)\n",
    "        Board[1][col] = Piece(name+'w','P','w',[1,col],1)\n",
    "        Board[6][col] = Piece(name+'b','P','b',[6,col],1)\n",
    "    \n",
    "    Board[0][0] = Piece('R1w','R','w',[0,0],1)\n",
    "    Board[0][1] = Piece('N1w','N','w',[0,1],1)\n",
    "    Board[0][2] = Piece('B1w','B','w',[0,2],1)\n",
    "    Board[0][3] = Piece('Q1w','Q','w',[0,3],1)\n",
    "    Board[0][4] = Piece('K1w','K','w',[0,4],1)\n",
    "    Board[0][5] = Piece('B2w','B','w',[0,5],1)\n",
    "    Board[0][6] = Piece('N2w','N','w',[0,6],1)\n",
    "    Board[0][7] = Piece('R2w','R','w',[0,7],1)\n",
    "    \n",
    "    Board[7][0] = Piece('R1b','R','b',[7,0],1)\n",
    "    Board[7][1] = Piece('N1b','N','b',[7,1],1)\n",
    "    Board[7][2] = Piece('B1b','B','b',[7,2],1)\n",
    "    Board[7][3] = Piece('Q1b','Q','b',[7,3],1)\n",
    "    Board[7][4] = Piece('K1b','K','b',[7,4],1)\n",
    "    Board[7][5] = Piece('B2b','B','b',[7,5],1)\n",
    "    Board[7][6] = Piece('N2b','N','b',[7,6],1)\n",
    "    Board[7][7] = Piece('R2b','R','b',[7,7],1)"
   ]
  },
  {
   "cell_type": "markdown",
   "metadata": {},
   "source": [
    "# Evaluation"
   ]
  },
  {
   "cell_type": "code",
   "execution_count": null,
   "metadata": {
    "collapsed": false
   },
   "outputs": [],
   "source": [
    "board1 = Board([],[],0)\n",
    "board1.generate_empty_board()"
   ]
  },
  {
   "cell_type": "code",
   "execution_count": null,
   "metadata": {
    "collapsed": false
   },
   "outputs": [],
   "source": [
    "piece_generator(board1.board)"
   ]
  },
  {
   "cell_type": "code",
   "execution_count": null,
   "metadata": {
    "collapsed": false
   },
   "outputs": [],
   "source": [
    "board_view(board1.board)"
   ]
  },
  {
   "cell_type": "code",
   "execution_count": null,
   "metadata": {
    "collapsed": false
   },
   "outputs": [],
   "source": [
    "board1.piece_list = List_Pieces(board1.board)"
   ]
  },
  {
   "cell_type": "code",
   "execution_count": null,
   "metadata": {
    "collapsed": true
   },
   "outputs": [],
   "source": [
    "board1.black_list = [item for item in board1.piece_list if item.colour == 'b']"
   ]
  },
  {
   "cell_type": "code",
   "execution_count": null,
   "metadata": {
    "collapsed": true
   },
   "outputs": [],
   "source": [
    "board1.white_list = [item for item in board1.piece_list if item.colour == 'w']"
   ]
  },
  {
   "cell_type": "code",
   "execution_count": null,
   "metadata": {
    "collapsed": true
   },
   "outputs": [],
   "source": []
  }
 ],
 "metadata": {
  "kernelspec": {
   "display_name": "Python 3",
   "language": "python",
   "name": "python3"
  },
  "language_info": {
   "codemirror_mode": {
    "name": "ipython",
    "version": 3
   },
   "file_extension": ".py",
   "mimetype": "text/x-python",
   "name": "python",
   "nbconvert_exporter": "python",
   "pygments_lexer": "ipython3",
   "version": "3.5.2"
  }
 },
 "nbformat": 4,
 "nbformat_minor": 2
}
